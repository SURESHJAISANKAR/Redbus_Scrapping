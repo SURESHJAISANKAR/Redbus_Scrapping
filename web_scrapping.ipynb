from selenium import webdriver
from selenium.webdriver.common.by import By
from selenium.webdriver.support.ui import WebDriverWait
from selenium.webdriver.common.keys import Keys
from selenium.webdriver import ActionChains
from selenium.webdriver.support import expected_conditions as EC
import time
import re


driver = webdriver.Chrome()
driver.get("https://www.redbus.in/")
driver.maximize_window()
time.sleep(5)

wait = WebDriverWait(driver, 10)
try:
     state_bus = wait.until(EC.element_to_be_clickable((By.CSS_SELECTOR,"a[href='https://www.redbus.in/online-booking/rtc-directory']")))
     actions = ActionChains(driver)
     actions.move_to_element(state_bus).perform()
     print("Successfully Moved")
     time.sleep(2)
     state_bus.click()

except Exception as e:
    print("Class Not Located",e)

driver.switch_to.window(driver.window_handles[1])

try:
    bus_available = wait.until(EC.element_to_be_clickable((By.XPATH, "//a[@class='D113_link' and text()='APSRTC']")))
    actions = ActionChains(driver)
    actions.move_to_element(bus_available).perform()
    print("Successfully Moved")
    time.sleep(2)
    bus_available.click()
    time.sleep(2)
    bus_details = wait.until(EC.element_to_be_clickable((By.CLASS_NAME, "route"))).click()
    # bus_details.click()
    time.sleep(10)
    gvt_bus = wait.until(EC.presence_of_all_elements_located((By.XPATH, "//div[@class='button' and text()='View Buses']")))
    for button in reversed(gvt_bus):
        button.click()
    
except Exception as e:
    print("data not Scrapped")

try:
    bulk_list = []
    busname=[]
    bustype = []
    departing_time = []
    duration = []
    reaching_time = []
    star_rating = []
    price = []
    seats_available = []
    last_height = driver.execute_script("return document.body.scrollHeight")
    print(last_height)
    scrolling = True
    while scrolling:
        driver.execute_script("window.scrollTo(0, document.body.scrollHeight);")

        time.sleep(3)

        new_height = driver.execute_script("return document.body.scrollHeight")
        if new_height == last_height:
            break
        last_height = new_height

    bus_name_details = wait.until(EC.presence_of_all_elements_located((By.XPATH, "//div[@class='travels lh-24 f-bold d-color']")))
    # bustype_details = wait.until(EC.presence_of_all_elements_located((By.XPATH, "//div[@class='bus-type f-12 m-top-16 l-color evBus']")))
    bustype_details = wait.until(EC.presence_of_all_elements_located((By.CSS_SELECTOR, ".bus-type.f-12.m-top-16.l-color.evBus")))
    departing_time_details = wait.until(EC.presence_of_all_elements_located((By.CSS_SELECTOR, ".dp-time.f-19.d-color.f-bold")))
    reaching_time_details = wait.until(EC.presence_of_all_elements_located((By.CSS_SELECTOR, ".bp-time.f-19.d-color.disp-Inline")))
    duration_details = wait.until(EC.presence_of_all_elements_located((By.XPATH, "//div[@class='dur l-color lh-24']")))
    star_rating_details = wait.until(EC.presence_of_all_elements_located((By.CSS_SELECTOR, "div.rating-sec.lh-24")))
    price_details = wait.until(EC.presence_of_all_elements_located((By.CSS_SELECTOR, "div.seat-fare")))
    seats_available_details = wait.until(EC.presence_of_all_elements_located((By.CSS_SELECTOR, "div.column-eight.w-15.fl")))

    print(bustype_details)
    for i in bus_name_details:
        busname.append(i.text)

    for i in bustype_details:
        bustype.append(i.text)
    
    for i in departing_time_details:
        departing_time.append(i.text)

    for i in reaching_time_details:
        reaching_time.append(i.text)

    for i in duration_details:
        duration.append(i.text)    

    for i in star_rating_details:
        star_rating.append(i.text)

    for i in price_details:
        price.append(i.text)

    for i in seats_available_details:
        seats_available.append(i.text)    

except Exception as e:
    print(f"An ERROR Occured : {e}")

seats = [int(i.split()[0]) for i in seats_available]
final_price = [int(re.findall(r'\d+',i)[0]) for i in price]

# bulk_list.append(bus_)
bulk_list.append(busname)
bulk_list.append(bustype)
bulk_list.append(departing_time)
bulk_list.append(reaching_time)
bulk_list.append(duration)
bulk_list.append(star_rating)
bulk_list.append(final_price)
bulk_list.append(seats)

for i in bulk_list:
    print(type(i))
print(bulk_list, type(bulk_list))
